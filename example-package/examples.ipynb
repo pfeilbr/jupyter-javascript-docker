{
 "cells": [
  {
   "cell_type": "code",
   "execution_count": 1,
   "metadata": {},
   "outputs": [
    {
     "name": "stdout",
     "output_type": "stream",
     "text": [
      "files in current directory (/tmp/working/example-package)\n",
      "\n",
      ".ipynb_checkpoints\n",
      "examples.ipynb\n",
      "lib.js\n",
      "node_modules\n",
      "package-lock.json\n",
      "package.json\n"
     ]
    }
   ],
   "source": [
    "// show files in \"current\" directory\n",
    "(async () => {\n",
    "    var util = require('util')\n",
    "    var fs = require('fs')    \n",
    "    let files = await util.promisify(fs.readdir)('.')\n",
    "    console.log(`files in current directory (${process.cwd()})\\n\\n${files.join('\\n')}`)\n",
    "})()\n"
   ]
  },
  {
   "cell_type": "code",
   "execution_count": 2,
   "metadata": {},
   "outputs": [
    {
     "name": "stdout",
     "output_type": "stream",
     "text": [
      "3\n"
     ]
    }
   ],
   "source": [
    "// use local lib.js file\n",
    "let l = require('./lib')\n",
    "console.log(l.add(1,2))"
   ]
  },
  {
   "cell_type": "code",
   "execution_count": 3,
   "metadata": {},
   "outputs": [
    {
     "name": "stdout",
     "output_type": "stream",
     "text": [
      "response contains 46009 characters\n"
     ]
    }
   ],
   "source": [
    "// async await example\n",
    "(async () => {\n",
    "    let rp = require('request-promise')\n",
    "    let resp = await rp('http://www.google.com')    \n",
    "    console.log(`response contains ${resp.length} characters`)\n",
    "})()\n"
   ]
  }
 ],
 "metadata": {
  "kernelspec": {
   "display_name": "Javascript (Node.js)",
   "language": "javascript",
   "name": "javascript"
  },
  "language_info": {
   "file_extension": ".js",
   "mimetype": "application/javascript",
   "name": "javascript",
   "version": "8.10.0"
  }
 },
 "nbformat": 4,
 "nbformat_minor": 2
}
